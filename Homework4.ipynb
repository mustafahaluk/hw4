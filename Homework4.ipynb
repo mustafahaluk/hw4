{
 "cells": [
  {
   "cell_type": "markdown",
   "metadata": {},
   "source": [
    "### Mustafa Haluk AYDIN  2011400327\n",
    "#### 25.3 from the book\n",
    "#### (a)\n",
    "<br/>\n",
    "For the matrix such that \n",
    "$A =\n",
    "\\begin{bmatrix}\n",
    "    x & x & 0\\\\\n",
    "    0 & x & x\\\\\n",
    "    0 & 0 & x\n",
    "\\end{bmatrix}\n",
    "$\n",
    "we can find $Q_1$, $Q_2$ , $Q_3$ that \n",
    "satisfy  $Q_1$$Q_2$$M$$Q_3$ = $A$ so it holds (ii)\n",
    "<br/>\n",
    "$Q_2$$M=\n",
    "\\begin{bmatrix}\n",
    "    x & x & x\\\\\n",
    "    0 & x & x\\\\\n",
    "    0 & x & x\n",
    "\\end{bmatrix}\n",
    "$\n",
    "<br/>\n",
    "$Q_1$$Q_2$$M=\n",
    "\\begin{bmatrix}\n",
    "    x & x & x\\\\\n",
    "    0 & x & x\\\\\n",
    "    0 & 0 & x\n",
    "\\end{bmatrix}\n",
    "$\n",
    "<br/>\n",
    "$Q_1$$Q_2$$M$$Q_3=\n",
    "\\begin{bmatrix}\n",
    "    x & x & 0\\\\\n",
    "    0 & x & x\\\\\n",
    "    0 & 0 & x\n",
    "\\end{bmatrix}\n",
    "$\n",
    "\n",
    "#### (b)\n",
    "<br/>\n",
    "For the matrix such that \n",
    "$B =\n",
    "\\begin{bmatrix}\n",
    "    x & x & 0\\\\\n",
    "    x & 0 & x\\\\\n",
    "    0 & x & x\n",
    "\\end{bmatrix}\n",
    "$\n",
    "<br/>\n",
    "$H$ can be constructud as  $B$=$R$$A$ such that \n",
    "$R =\n",
    "\\begin{bmatrix}\n",
    "    1 & 0 & 0\\\\\n",
    "    0 & 0 & 1\\\\\n",
    "    0 & 1 & 0\n",
    "\\end{bmatrix}\n",
    "$\n",
    "So it also holds (ii)\n",
    "\n",
    "#### (c)\n",
    "<br/>\n",
    "For the matrix such that \n",
    "$C =\n",
    "\\begin{bmatrix}\n",
    "    x & x & 0\\\\\n",
    "    0 & 0 & x\\\\\n",
    "    0 & 0 & x\n",
    "\\end{bmatrix}\n",
    "$\n",
    "which is singular, so we cannot end up with singular matrix by multiplying nonsingular matrices, so it holds (iii)"
   ]
  }
 ],
 "metadata": {
  "kernelspec": {
   "display_name": "Octave",
   "language": "octave",
   "name": "octave"
  },
  "language_info": {
   "file_extension": ".m",
   "help_links": [
    {
     "text": "GNU Octave",
     "url": "https://www.gnu.org/software/octave/support.html"
    },
    {
     "text": "Octave Kernel",
     "url": "https://github.com/Calysto/octave_kernel"
    },
    {
     "text": "MetaKernel Magics",
     "url": "https://github.com/calysto/metakernel/blob/master/metakernel/magics/README.md"
    }
   ],
   "mimetype": "text/x-octave",
   "name": "octave",
   "version": "4.0.2"
  }
 },
 "nbformat": 4,
 "nbformat_minor": 1
}
